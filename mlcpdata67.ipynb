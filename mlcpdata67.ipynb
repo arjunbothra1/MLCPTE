{
 "cells": [
  {
   "cell_type": "code",
   "execution_count": 5,
   "id": "bd6bbcc8-313c-40ad-acb8-5537a83b7770",
   "metadata": {},
   "outputs": [],
   "source": [
    "import numpy as np"
   ]
  },
  {
   "cell_type": "code",
   "execution_count": 1,
   "id": "73c77667-25a0-4fde-8b2d-2c1f83555e9e",
   "metadata": {},
   "outputs": [
    {
     "name": "stdout",
     "output_type": "stream",
     "text": [
      "Ag8SnSe6 good\n",
      "Cu12Sb4S13 good\n",
      "MgAgSb good\n",
      "SnSe good\n",
      "TiS2 good\n",
      "VFeSb good\n",
      "LiCoO2 good\n",
      "GeTe good\n",
      "CoGeTe good\n",
      "CuFeS2 good\n",
      "Co9S8 good\n",
      "CoS2 good\n",
      "CoSi good\n",
      "Tl2GeTe3 good\n",
      "BaBiTe3 good\n",
      "Tl4SnTe3 good\n",
      "Sb2Si2Te6 good\n",
      "Bi2Te3 good\n",
      "YbCd2Sb2 good\n",
      "YbSi2 good\n",
      "Rb2Bi8Se13 good\n",
      "AgBiSe2 good\n",
      "BaTmCo4O7 good\n",
      "BaLuCo4O7 good\n",
      "BaDyCo4O7 good\n",
      "CsPr2Ag3Te5 good\n",
      "CsSm2Ag3Te5 good\n",
      "TlCr5Se8 good\n",
      "Ca14MgBi11 good\n",
      "BiCuSeO good\n",
      "Ca11Sb10 good\n",
      "As2Te3 good\n",
      "Bi2Si2Te6 good\n",
      "Ca5In2Sb6 good\n",
      "Cr2Ge2Te6 good\n",
      "Ca3AlSb3 good\n",
      "Yb14MnSb11 good\n",
      "Ca5Ga2Sb6 good\n",
      "Tl4PbTe3 good\n",
      "Sr14MgBi11 good\n",
      "Mg3Sb2 good\n",
      "EuCd2Sb2 good\n",
      "SnS good\n",
      "Eu14MgBi11 good\n",
      "Yb14MgBi11 good\n",
      "Cu3SbS4 good\n",
      "BaZn2As2 good\n",
      "PbTe good\n",
      "Cu2SnSe3 good\n",
      "BaGd2NiO5 good\n",
      "Cu2SnS3 good\n",
      "Cu3ErTe3 good\n",
      "EuZn2Sb2 good\n",
      "Cu2CdSnSe4 good\n",
      "GeSe good\n",
      "Nd3Te4 good\n",
      "Cu3SbSe4 good\n",
      "ZrNiSn good\n",
      "Cu2ZnSnSe4 good\n",
      "CaTiO3 good\n",
      "TiNiSn good\n",
      "Cu5Sn2Se7 good\n",
      "Cu26V2Ge6S32 good\n",
      "Cu5Sn2S7 good\n",
      "SnTe good\n",
      "CuGaTe2 good\n",
      "Ca3Co2O6 good\n"
     ]
    }
   ],
   "source": [
    "import mlcpquick\n",
    "formulas=['Ag8SnSe6', 'Cu12Sb4S13', 'MgAgSb', 'SnSe', 'TiS2', 'VFeSb',\n",
    "       'LiCoO2', 'GeTe', 'CoGeTe', 'CuFeS2', 'Co9S8', 'CoS2', 'CoSi',\n",
    "       'Tl2GeTe3', 'BaBiTe3', 'Tl4SnTe3', 'Sb2Si2Te6', 'Bi2Te3',\n",
    "       'YbCd2Sb2', 'YbSi2', 'Rb2Bi8Se13', 'AgBiSe2', 'BaTmCo4O7',\n",
    "       'BaLuCo4O7', 'BaDyCo4O7', 'CsPr2Ag3Te5', 'CsSm2Ag3Te5', 'TlCr5Se8',\n",
    "       'Ca14MgBi11', 'BiCuSeO', 'Ca11Sb10', 'As2Te3', 'Bi2Si2Te6',\n",
    "       'Ca5In2Sb6', 'Cr2Ge2Te6', 'Ca3AlSb3', 'Yb14MnSb11', 'Ca5Ga2Sb6',\n",
    "       'Tl4PbTe3', 'Sr14MgBi11', 'Mg3Sb2', 'EuCd2Sb2', 'SnS',\n",
    "       'Eu14MgBi11', 'Yb14MgBi11', 'Cu3SbS4', 'BaZn2As2', 'PbTe',\n",
    "       'Cu2SnSe3', 'BaGd2NiO5', 'Cu2SnS3', 'Cu3ErTe3', 'EuZn2Sb2',\n",
    "       'Cu2CdSnSe4', 'GeSe', 'Nd3Te4', 'Cu3SbSe4', 'ZrNiSn', 'Cu2ZnSnSe4',\n",
    "       'CaTiO3', 'TiNiSn', 'Cu5Sn2Se7', 'Cu26V2Ge6S32', 'Cu5Sn2S7',\n",
    "       'SnTe', 'CuGaTe2', 'Ca3Co2O6']\n",
    "errors=0\n",
    "masterdict={}\n",
    "for cif in formulas:\n",
    "    try:\n",
    "        masterdict[cif]=mlcpquick.mlcp(cif+\".cif\")\n",
    "        print(cif+\" good\")\n",
    "    except:\n",
    "        print(cif+\" bad\")\n"
   ]
  },
  {
   "cell_type": "code",
   "execution_count": 2,
   "id": "305b78d7-610d-4cb7-9a25-8fcd72406b07",
   "metadata": {},
   "outputs": [
    {
     "data": {
      "text/plain": [
       "67"
      ]
     },
     "execution_count": 2,
     "metadata": {},
     "output_type": "execute_result"
    }
   ],
   "source": [
    "len(formulas)"
   ]
  },
  {
   "cell_type": "code",
   "execution_count": 3,
   "id": "39225398-daec-408a-a22a-9961ec7b7c08",
   "metadata": {},
   "outputs": [
    {
     "data": {
      "text/plain": [
       "67"
      ]
     },
     "execution_count": 3,
     "metadata": {},
     "output_type": "execute_result"
    }
   ],
   "source": [
    "len(masterdict)"
   ]
  },
  {
   "cell_type": "code",
   "execution_count": 6,
   "id": "8cd5b3fc-a015-41dc-9867-831d95cb164f",
   "metadata": {},
   "outputs": [],
   "source": [
    "np.save('mlcpdata67.npy', masterdict) "
   ]
  },
  {
   "cell_type": "code",
   "execution_count": null,
   "id": "7885be1a-6abd-4a79-8c8d-86e5aeff68d6",
   "metadata": {},
   "outputs": [],
   "source": [
    "mlcpdata = np.load('mlcpdata67.npy',allow_pickle='TRUE').item()"
   ]
  },
  {
   "cell_type": "code",
   "execution_count": null,
   "id": "ca08f0ce-ff50-4136-b134-623af00f09b0",
   "metadata": {},
   "outputs": [],
   "source": [
    "mlcpkeys=mlcpdata['SnS'].keys()"
   ]
  },
  {
   "cell_type": "code",
   "execution_count": null,
   "id": "691753e3-50a2-4cc3-a592-dcc18d2dcbfe",
   "metadata": {},
   "outputs": [],
   "source": [
    "mlcpkeys"
   ]
  },
  {
   "cell_type": "code",
   "execution_count": null,
   "id": "71bd42c9-7f81-41b4-8060-cdfbab16dca0",
   "metadata": {},
   "outputs": [],
   "source": []
  }
 ],
 "metadata": {
  "kernelspec": {
   "display_name": "Python 3 (ipykernel)",
   "language": "python",
   "name": "python3"
  },
  "language_info": {
   "codemirror_mode": {
    "name": "ipython",
    "version": 3
   },
   "file_extension": ".py",
   "mimetype": "text/x-python",
   "name": "python",
   "nbconvert_exporter": "python",
   "pygments_lexer": "ipython3",
   "version": "3.12.2"
  }
 },
 "nbformat": 4,
 "nbformat_minor": 5
}
